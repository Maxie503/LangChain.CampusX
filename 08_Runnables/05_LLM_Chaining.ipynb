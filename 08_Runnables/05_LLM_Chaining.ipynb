{
  "nbformat": 4,
  "nbformat_minor": 0,
  "metadata": {
    "colab": {
      "provenance": [],
      "authorship_tag": "ABX9TyPSkZs33OusSZBaSzf+9WFI",
      "include_colab_link": true
    },
    "kernelspec": {
      "name": "python3",
      "display_name": "Python 3"
    },
    "language_info": {
      "name": "python"
    }
  },
  "cells": [
    {
      "cell_type": "markdown",
      "metadata": {
        "id": "view-in-github",
        "colab_type": "text"
      },
      "source": [
        "<a href=\"https://colab.research.google.com/github/Maxie503/LangChain.CampusX/blob/main/05_LLM_Chaining.ipynb\" target=\"_parent\"><img src=\"https://colab.research.google.com/assets/colab-badge.svg\" alt=\"Open In Colab\"/></a>"
      ]
    },
    {
      "cell_type": "code",
      "execution_count": null,
      "metadata": {
        "id": "REd-8O_gKsRQ"
      },
      "outputs": [],
      "source": [
        "import random\n",
        "\n",
        "class NakliLLm:\n",
        "  def __init__(self):\n",
        "    print(\"LLM created\")\n",
        "\n",
        "  def predict(self,prompt):\n",
        "    response = [\n",
        "        'Delhi is capital of inida',\n",
        "        'IPL is cricket legue',\n",
        "        'AI stand for AI']\n",
        "    return {'rensponse':random.choice(response)}"
      ]
    },
    {
      "cell_type": "code",
      "source": [
        "class nakliPrompt:\n",
        "  def __init__(self, template, input_variable='asia'):\n",
        "    self.template = template\n",
        "    self.input_variable = input_variable\n",
        "\n",
        "  def format(self, input_dict):\n",
        "    return self.template.format(**input_dict)\n"
      ],
      "metadata": {
        "id": "c8t0ImcEMKFu"
      },
      "execution_count": null,
      "outputs": []
    },
    {
      "cell_type": "code",
      "source": [
        "template = nakliPrompt(template=\"Write a poem about {topic}\",\n",
        "                       input_variable=['topic'])\n",
        "prompt = template.format({'topic': 'india'})\n"
      ],
      "metadata": {
        "id": "aBswiGVmNEPo"
      },
      "execution_count": null,
      "outputs": []
    },
    {
      "cell_type": "code",
      "source": [
        "llm = NakliLLm()"
      ],
      "metadata": {
        "colab": {
          "base_uri": "https://localhost:8080/"
        },
        "id": "3P72CbovNYM2",
        "outputId": "f806cf79-33a8-40a6-949a-cbede14ac7f6"
      },
      "execution_count": null,
      "outputs": [
        {
          "output_type": "stream",
          "name": "stdout",
          "text": [
            "LLM created\n"
          ]
        }
      ]
    },
    {
      "cell_type": "code",
      "source": [
        "results = llm.predict(prompt)\n",
        "print(results)"
      ],
      "metadata": {
        "colab": {
          "base_uri": "https://localhost:8080/"
        },
        "id": "1z-G6vaGPG2A",
        "outputId": "81b5b9be-2227-409b-f5ae-05a078170996"
      },
      "execution_count": null,
      "outputs": [
        {
          "output_type": "stream",
          "name": "stdout",
          "text": [
            "{'rensponse': 'AI stand for AI'}\n"
          ]
        }
      ]
    },
    {
      "cell_type": "markdown",
      "source": [
        "#Nakli LLM Chains"
      ],
      "metadata": {
        "id": "SP-WOz1FQ-SU"
      }
    },
    {
      "cell_type": "code",
      "source": [
        "class nakilLLchain:\n",
        "  def __init__(self, llm, prompt):\n",
        "    self.prompt = prompt\n",
        "    self.llm = llm\n",
        "\n",
        "  def run(self, input_dict):\n",
        "    prompt = self.prompt.format(input_dict)\n",
        "    results = self.llm.predict(prompt)\n",
        "    return results['rensponse']"
      ],
      "metadata": {
        "id": "Zu41rk4iRChd"
      },
      "execution_count": null,
      "outputs": []
    },
    {
      "cell_type": "code",
      "source": [
        "llm = NakliLLm()\n",
        "\n",
        "template = nakliPrompt(template=\"Write a poem about {topic}\",\n",
        "                       input_variable=['topic'])\n",
        "#prompt = template.format({'topic': 'india'})"
      ],
      "metadata": {
        "colab": {
          "base_uri": "https://localhost:8080/"
        },
        "id": "_IKxeY7ySBa2",
        "outputId": "25beae27-8367-4b22-81b8-a1b133ef20af"
      },
      "execution_count": null,
      "outputs": [
        {
          "output_type": "stream",
          "name": "stdout",
          "text": [
            "LLM created\n"
          ]
        }
      ]
    },
    {
      "cell_type": "code",
      "source": [
        "chain = nakilLLchain(llm, template)\n",
        "chain.run({'topic': 'india'})"
      ],
      "metadata": {
        "colab": {
          "base_uri": "https://localhost:8080/",
          "height": 35
        },
        "id": "VukKnf3xSKz-",
        "outputId": "ef913522-1620-4477-bc6b-43b344ca51cb"
      },
      "execution_count": null,
      "outputs": [
        {
          "output_type": "execute_result",
          "data": {
            "text/plain": [
              "'Delhi is capital of inida'"
            ],
            "application/vnd.google.colaboratory.intrinsic+json": {
              "type": "string"
            }
          },
          "metadata": {},
          "execution_count": 43
        }
      ]
    },
    {
      "cell_type": "code",
      "source": [],
      "metadata": {
        "id": "bMVAp_PzSfiW"
      },
      "execution_count": null,
      "outputs": []
    }
  ]
}
