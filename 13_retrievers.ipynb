{
  "nbformat": 4,
  "nbformat_minor": 0,
  "metadata": {
    "colab": {
      "provenance": [],
      "authorship_tag": "ABX9TyN9dxtrXKzJv2wBFFLvk3fo",
      "include_colab_link": true
    },
    "kernelspec": {
      "name": "python3",
      "display_name": "Python 3"
    },
    "language_info": {
      "name": "python"
    }
  },
  "cells": [
    {
      "cell_type": "markdown",
      "metadata": {
        "id": "view-in-github",
        "colab_type": "text"
      },
      "source": [
        "<a href=\"https://colab.research.google.com/github/Maxie503/LangChain.CampusX/blob/main/13_retrievers.ipynb\" target=\"_parent\"><img src=\"https://colab.research.google.com/assets/colab-badge.svg\" alt=\"Open In Colab\"/></a>"
      ]
    },
    {
      "cell_type": "markdown",
      "source": [
        "# WikipediaRetriever"
      ],
      "metadata": {
        "id": "GUL4d6Rkkiix"
      }
    },
    {
      "cell_type": "code",
      "source": [
        "from langchain_community.retrievers import WikipediaRetriever\n",
        "retriever=WikipediaRetriever()\n",
        "query =\"Tell me about india and sri lanka\"\n",
        "docs_wiki = retriever.invoke(query)"
      ],
      "metadata": {
        "id": "s4DTPHl_i2Ni"
      },
      "execution_count": 2,
      "outputs": []
    },
    {
      "cell_type": "code",
      "source": [
        "for doc in docs_wiki:\n",
        "    print(doc.page_content[:500])"
      ],
      "metadata": {
        "colab": {
          "base_uri": "https://localhost:8080/"
        },
        "id": "ZOmCm7bejE4W",
        "outputId": "0e5e454a-6bd4-42f3-95cf-1fec69861c1e"
      },
      "execution_count": 51,
      "outputs": [
        {
          "output_type": "stream",
          "name": "stdout",
          "text": [
            "SriLankan Airlines  is the flag carrier of Sri Lanka and a member airline of the Oneworld airline alliance. It was launched in 1979 as Air Lanka following the termination of operations of the original Sri Lankan flag carrier Air Ceylon. As of today, it is Sri Lanka's largest airline by number of aircraft and destinations. Its hub is Bandaranaike International Airport.\n",
            "Following its partial acquisition in 1998 by Emirates, it was re-branded and the current livery was introduced. In 2008, the gove\n",
            "No Fire Zone: In the Killing Fields of Sri Lanka is an investigative documentary about the final weeks of the Sri Lankan Civil War. Released by Channel 4, the documentary covers the period from September 2008 until the end of the war in 2009 in which thousands of Tamil people were killed by shelling and extrajudicial executions by the Sri Lankan Army including Balachandran Prabhakaran, the 12-year-old son of the slain Liberation Tigers of Tamil Eelam (LTTE) Chief Velupillai Prabhakaran. The Sri \n",
            "Claims of media bias in South Asia attract constant attention. The question of bias in South Asian media is also of great interest to people living outside of South Asia. Some accusations of media bias are motivated by a disinterested desire for truth, some are politically motivated. Media bias occurs in television, newspapers, school books and other media.\n",
            "\n",
            "\n",
            "== India ==\n",
            "Before Independence\n",
            "\n",
            "In British India, bias in the  media coverage of the Bengal famine of 1943 has been highlighted by histor\n"
          ]
        }
      ]
    },
    {
      "cell_type": "markdown",
      "source": [
        "# Vector store"
      ],
      "metadata": {
        "id": "rgUSroCRknSJ"
      }
    },
    {
      "cell_type": "code",
      "source": [
        "from langchain.vectorstores import Chroma, FAISS\n",
        "from langchain_huggingface import HuggingFaceEmbeddings\n",
        "from langchain.document_loaders import DocugamiLoader\n",
        "from langchain.schema import Document"
      ],
      "metadata": {
        "id": "synRrBOalNk7"
      },
      "execution_count": 4,
      "outputs": []
    },
    {
      "cell_type": "code",
      "source": [
        "documents = [\n",
        "    Document(page_content=\"LangChain helps developers build LLM applications easily.\"),\n",
        "    Document(page_content=\"Chroma is a vector database optimized for LLM-based search.\"),\n",
        "    Document(page_content=\"Embeddings convert text into high-dimensional vectors.\"),\n",
        "    Document(page_content=\"OpenAI provides powerful embedding models.\"),\n",
        "]"
      ],
      "metadata": {
        "id": "O1vAj_FplUM6"
      },
      "execution_count": 5,
      "outputs": []
    },
    {
      "cell_type": "code",
      "source": [
        "embed_model = HuggingFaceEmbeddings(model_name=\"sentence-transformers/all-MiniLM-L6-v2\")"
      ],
      "metadata": {
        "colab": {
          "base_uri": "https://localhost:8080/"
        },
        "id": "zIpskch6lVYs",
        "outputId": "a7c7e63b-2d8f-4dc0-86c3-8396e4b1f742"
      },
      "execution_count": 6,
      "outputs": [
        {
          "output_type": "stream",
          "name": "stderr",
          "text": [
            "/usr/local/lib/python3.11/dist-packages/huggingface_hub/utils/_auth.py:94: UserWarning: \n",
            "The secret `HF_TOKEN` does not exist in your Colab secrets.\n",
            "To authenticate with the Hugging Face Hub, create a token in your settings tab (https://huggingface.co/settings/tokens), set it as secret in your Google Colab and restart your session.\n",
            "You will be able to reuse this secret in all of your notebooks.\n",
            "Please note that authentication is recommended but still optional to access public models or datasets.\n",
            "  warnings.warn(\n"
          ]
        }
      ]
    },
    {
      "cell_type": "code",
      "source": [
        "vector_storage1 = Chroma.from_documents(documents,embedding=embed_model)"
      ],
      "metadata": {
        "id": "NAqPG6UIlsnD"
      },
      "execution_count": 7,
      "outputs": []
    },
    {
      "cell_type": "markdown",
      "source": [
        "# similarity Search with Chroma VS"
      ],
      "metadata": {
        "id": "bAZw6M7VvZ6S"
      }
    },
    {
      "cell_type": "code",
      "source": [
        "retriever_simi = vector_storage1.as_retriever(search_type=\"similarity\", search_kwargs={\"k\": 2})"
      ],
      "metadata": {
        "id": "-gy20WGymTci"
      },
      "execution_count": 8,
      "outputs": []
    },
    {
      "cell_type": "code",
      "source": [
        "results1 = retriever_simi.invoke(\"what is Chroma?\")"
      ],
      "metadata": {
        "id": "tRnmHWqintEq"
      },
      "execution_count": 9,
      "outputs": []
    },
    {
      "cell_type": "code",
      "source": [
        "for index,doc in enumerate(results1):\n",
        "  print(doc.page_content)"
      ],
      "metadata": {
        "colab": {
          "base_uri": "https://localhost:8080/"
        },
        "id": "MR-wrZsqn2Di",
        "outputId": "9b7eadd5-5e9a-40d8-bbd2-02203d7842f5"
      },
      "execution_count": 10,
      "outputs": [
        {
          "output_type": "stream",
          "name": "stdout",
          "text": [
            "Chroma is a vector database optimized for LLM-based search.\n",
            "Embeddings convert text into high-dimensional vectors.\n"
          ]
        }
      ]
    },
    {
      "cell_type": "markdown",
      "source": [
        "# MMR Search with FAISS Vector Store"
      ],
      "metadata": {
        "id": "rkv2toSoviMq"
      }
    },
    {
      "cell_type": "code",
      "source": [
        "# Sample documents\n",
        "docs = [\n",
        "    Document(page_content=\"LangChain makes it easy to work with LLMs.\"),\n",
        "    Document(page_content=\"LangChain makes it fast to work with LLMs.\"),\n",
        "    Document(page_content=\"LangChain is used to build LLM based applications.\"),\n",
        "    Document(page_content=\"Chroma is used to store and search document embeddings.\"),\n",
        "    Document(page_content=\"Embeddings are vector representations of text.\"),\n",
        "    Document(page_content=\"MMR helps you get diverse results when doing similarity search.\"),\n",
        "    Document(page_content=\"LangChain supports Chroma, FAISS, Pinecone, and more.\"),\n",
        "]"
      ],
      "metadata": {
        "id": "-h_X09dfykQ8"
      },
      "execution_count": 11,
      "outputs": []
    },
    {
      "cell_type": "code",
      "source": [
        "vector_storage2 = FAISS.from_documents(docs, embedding=embed_model)"
      ],
      "metadata": {
        "id": "Mrd_J3gnnYi6"
      },
      "execution_count": 12,
      "outputs": []
    },
    {
      "cell_type": "markdown",
      "source": [
        "# similarity"
      ],
      "metadata": {
        "id": "R5-OVb6m0YDD"
      }
    },
    {
      "cell_type": "code",
      "source": [
        "retriever_simi = vector_storage2.as_retriever(search_type=\"similarity\", search_kwargs={\"k\": 3})\n",
        "results2= retriever_simi.invoke(\"what is langchain?\")\n",
        "for i, doc in enumerate(results2):\n",
        "    print(\"Results=\",i, doc.page_content)"
      ],
      "metadata": {
        "colab": {
          "base_uri": "https://localhost:8080/"
        },
        "id": "IKBG-IyIuGtL",
        "outputId": "a08fd8b6-a868-4c4c-9ee0-a4b180027463"
      },
      "execution_count": 13,
      "outputs": [
        {
          "output_type": "stream",
          "name": "stdout",
          "text": [
            "Results= 0 LangChain supports Chroma, FAISS, Pinecone, and more.\n",
            "Results= 1 LangChain is used to build LLM based applications.\n",
            "Results= 2 LangChain makes it fast to work with LLMs.\n"
          ]
        }
      ]
    },
    {
      "cell_type": "markdown",
      "source": [
        "# MMR"
      ],
      "metadata": {
        "id": "V0Ht-oyX0bAq"
      }
    },
    {
      "cell_type": "code",
      "source": [
        "retriever_mmr = vector_storage2.as_retriever(search_type=\"mmr\", search_kwargs={\"k\": 3, \"lambda_mult\": 0.5})\n",
        "results2= retriever_mmr.invoke(\"what is langchain?\")\n",
        "for i, doc in enumerate(results2):\n",
        "    print(\"Results=\",i, doc.page_content)"
      ],
      "metadata": {
        "colab": {
          "base_uri": "https://localhost:8080/"
        },
        "id": "XBTHHjRuuiA7",
        "outputId": "fe5dd6f0-451a-4cfc-d64d-a29e41b8ff88"
      },
      "execution_count": 14,
      "outputs": [
        {
          "output_type": "stream",
          "name": "stdout",
          "text": [
            "Results= 0 LangChain supports Chroma, FAISS, Pinecone, and more.\n",
            "Results= 1 LangChain is used to build LLM based applications.\n",
            "Results= 2 Embeddings are vector representations of text.\n"
          ]
        }
      ]
    },
    {
      "cell_type": "markdown",
      "source": [
        "# Multiquery Retriever"
      ],
      "metadata": {
        "id": "NHeoly3avzmq"
      }
    },
    {
      "cell_type": "code",
      "source": [
        "from langchain.retrievers.multi_query import MultiQueryRetriever\n"
      ],
      "metadata": {
        "id": "kF1wsLWuvyqy"
      },
      "execution_count": 15,
      "outputs": []
    },
    {
      "cell_type": "code",
      "source": [
        "# Relevant health & wellness documents\n",
        "all_docs = [\n",
        "    Document(page_content=\"Regular walking boosts heart health and can reduce symptoms of depression.\", metadata={\"source\": \"H1\"}),\n",
        "    Document(page_content=\"Consuming leafy greens and fruits helps detox the body and improve longevity.\", metadata={\"source\": \"H2\"}),\n",
        "    Document(page_content=\"Deep sleep is crucial for cellular repair and emotional regulation.\", metadata={\"source\": \"H3\"}),\n",
        "    Document(page_content=\"Mindfulness and controlled breathing lower cortisol and improve mental clarity.\", metadata={\"source\": \"H4\"}),\n",
        "    Document(page_content=\"Drinking sufficient water throughout the day helps maintain metabolism and energy.\", metadata={\"source\": \"H5\"}),\n",
        "    Document(page_content=\"The solar energy system in modern homes helps balance electricity demand.\", metadata={\"source\": \"I1\"}),\n",
        "    Document(page_content=\"Python balances readability with power, making it a popular system design language.\", metadata={\"source\": \"I2\"}),\n",
        "    Document(page_content=\"Photosynthesis enables plants to produce energy by converting sunlight.\", metadata={\"source\": \"I3\"}),\n",
        "    Document(page_content=\"The 2022 FIFA World Cup was held in Qatar and drew global energy and excitement.\", metadata={\"source\": \"I4\"}),\n",
        "    Document(page_content=\"Black holes bend spacetime and store immense gravitational energy.\", metadata={\"source\": \"I5\"}),\n",
        "]"
      ],
      "metadata": {
        "id": "g0hZ-gqwutuz"
      },
      "execution_count": 16,
      "outputs": []
    },
    {
      "cell_type": "code",
      "source": [
        "from langchain_huggingface import HuggingFacePipeline\n",
        "from transformers import pipeline\n",
        "\n",
        "hf_pipeline = pipeline(\n",
        "    \"text2text-generation\",\n",
        "    model=\"google/flan-t5-small\",\n",
        "    max_length=100,\n",
        "    do_sample=False\n",
        ")\n",
        "\n",
        "llm = HuggingFacePipeline(pipeline=hf_pipeline)"
      ],
      "metadata": {
        "colab": {
          "base_uri": "https://localhost:8080/"
        },
        "id": "sXpwk4jABTWH",
        "outputId": "c337c21e-e056-41c3-a95a-f4651a337e6c"
      },
      "execution_count": 17,
      "outputs": [
        {
          "output_type": "stream",
          "name": "stderr",
          "text": [
            "Device set to use cpu\n"
          ]
        }
      ]
    },
    {
      "cell_type": "code",
      "source": [
        "vector_storage3 = FAISS.from_documents(all_docs, embedding=embed_model)"
      ],
      "metadata": {
        "id": "bBWQzYny2QRr"
      },
      "execution_count": 18,
      "outputs": []
    },
    {
      "cell_type": "code",
      "source": [
        "nquery=3\n",
        "simi_rete = vector_storage3.as_retriever(search_type=\"mmr\", search_kwargs={\"k\": nquery, \"lambda_mult\" : 1})\n",
        "multi_retriever = multiquery_retriever = MultiQueryRetriever.from_llm(\n",
        "    retriever=vector_storage3.as_retriever(search_type=\"mmr\",search_kwargs={\"k\": nquery, \"lambda_mult\" : 1}),llm=llm)"
      ],
      "metadata": {
        "id": "vphxlQIa2hvz"
      },
      "execution_count": 19,
      "outputs": []
    },
    {
      "cell_type": "code",
      "source": [
        "resultsMulti = multi_retriever.invoke(\"How to improve energy levels and maintain balance healthy life?\")\n",
        "resultsSS = simi_rete.invoke(\"How to improve energy levels and maintain balance healthy life?\")\n",
        "print(\"--------MultiQuery Retriever----------\")\n",
        "for index, mdoc in enumerate(resultsMulti):\n",
        "    print(\"Results=\",index, mdoc.page_content)\n",
        "\n",
        "print(\"----------SS Retriever----------\")\n",
        "for index, ssdoc in enumerate(resultsSS):\n",
        "    print(\"Results=\",index, ssdoc.page_content)"
      ],
      "metadata": {
        "colab": {
          "base_uri": "https://localhost:8080/"
        },
        "id": "K-DDZFL13etx",
        "outputId": "e326f9c6-67d3-4317-a520-69d06cc5e5bd"
      },
      "execution_count": 20,
      "outputs": [
        {
          "output_type": "stream",
          "name": "stdout",
          "text": [
            "--------MultiQuery Retriever----------\n",
            "Results= 0 Drinking sufficient water throughout the day helps maintain metabolism and energy.\n",
            "Results= 1 Consuming leafy greens and fruits helps detox the body and improve longevity.\n",
            "Results= 2 Mindfulness and controlled breathing lower cortisol and improve mental clarity.\n",
            "----------SS Retriever----------\n",
            "Results= 0 Drinking sufficient water throughout the day helps maintain metabolism and energy.\n",
            "Results= 1 Consuming leafy greens and fruits helps detox the body and improve longevity.\n",
            "Results= 2 The solar energy system in modern homes helps balance electricity demand.\n"
          ]
        }
      ]
    },
    {
      "cell_type": "markdown",
      "source": [
        "# ContextualCompressionRetriever"
      ],
      "metadata": {
        "id": "NMc6vQtpLqSA"
      }
    },
    {
      "cell_type": "code",
      "source": [
        "from langchain.vectorstores import FAISS\n",
        "from langchain.retrievers import ContextualCompressionRetriever"
      ],
      "metadata": {
        "id": "PZJ3YKrxLo-X"
      },
      "execution_count": 22,
      "outputs": []
    },
    {
      "cell_type": "code",
      "source": [
        "from langchain_huggingface import HuggingFaceEmbeddings\n",
        "from transformers import pipeline\n",
        "\n",
        "hf_pipeline = pipeline(\n",
        "    \"text2text-generation\",\n",
        "    model=\"google/flan-t5-small\",\n",
        "    max_length=256,\n",
        "    do_sample=False\n",
        ")\n",
        "\n",
        "llm = HuggingFacePipeline(pipeline=hf_pipeline)\n",
        "embed_model_ccr = HuggingFaceEmbeddings(model_name=\"sentence-transformers/all-MiniLM-L6-v2\")"
      ],
      "metadata": {
        "colab": {
          "base_uri": "https://localhost:8080/"
        },
        "id": "O0dTKflF_oeg",
        "outputId": "0abe0caa-9955-4ff1-b98c-68d552c63a35"
      },
      "execution_count": 23,
      "outputs": [
        {
          "output_type": "stream",
          "name": "stderr",
          "text": [
            "Device set to use cpu\n"
          ]
        }
      ]
    },
    {
      "cell_type": "code",
      "source": [
        "# Document objects\n",
        "docs_ccr = [\n",
        "    Document(page_content=(\n",
        "        \"\"\"The Grand Canyon is one of the most visited natural wonders in the world.\n",
        "        Photosynthesis is the process by which green plants convert sunlight into energy.\n",
        "        Millions of tourists travel to see it every year. The rocks date back millions of years.\"\"\"\n",
        "    ), metadata={\"source\": \"Doc1\"}),\n",
        "\n",
        "    Document(page_content=(\n",
        "        \"\"\"In medieval Europe, castles were built primarily for defense.\n",
        "        The chlorophyll in plant cells captures sunlight during photosynthesis.\n",
        "        Knights wore armor made of metal. Siege weapons were often used to breach castle walls.\"\"\"\n",
        "    ), metadata={\"source\": \"Doc2\"}),\n",
        "\n",
        "    Document(page_content=(\n",
        "        \"\"\"Basketball was invented by Dr. James Naismith in the late 19th century.\n",
        "        It was originally played with a soccer ball and peach baskets. NBA is now a global league.\"\"\"\n",
        "    ), metadata={\"source\": \"Doc3\"}),\n",
        "\n",
        "    Document(page_content=(\n",
        "        \"\"\"The history of cinema began in the late 1800s. Silent films were the earliest form.\n",
        "        Thomas Edison was among the pioneers. Photosynthesis does not occur in animal cells.\n",
        "        Modern filmmaking involves complex CGI and sound design.\"\"\"\n",
        "    ), metadata={\"source\": \"Doc4\"})\n",
        "]"
      ],
      "metadata": {
        "id": "UgUdSBQVMcuR"
      },
      "execution_count": 24,
      "outputs": []
    },
    {
      "cell_type": "code",
      "source": [
        "vector_storage_ccr = FAISS.from_documents(docs_ccr,embedding=embed_model_ccr)"
      ],
      "metadata": {
        "id": "v35MwBrlMsmZ"
      },
      "execution_count": 25,
      "outputs": []
    },
    {
      "cell_type": "code",
      "source": [
        "base_retriever=vector_storage_ccr.as_retriever(search_kwargs={\"k\": 5})"
      ],
      "metadata": {
        "id": "t1rpG2OTOguu"
      },
      "execution_count": 37,
      "outputs": []
    },
    {
      "cell_type": "code",
      "source": [
        "%pip install -qU langchain-groq"
      ],
      "metadata": {
        "colab": {
          "base_uri": "https://localhost:8080/"
        },
        "id": "b5EvpfRBS0NY",
        "outputId": "73ed3df8-98fb-4dab-8089-fc5f158cee60"
      },
      "execution_count": 42,
      "outputs": [
        {
          "output_type": "stream",
          "name": "stdout",
          "text": [
            "\u001b[?25l   \u001b[90m━━━━━━━━━━━━━━━━━━━━━━━━━━━━━━━━━━━━━━━━\u001b[0m \u001b[32m0.0/130.2 kB\u001b[0m \u001b[31m?\u001b[0m eta \u001b[36m-:--:--\u001b[0m\r\u001b[2K   \u001b[90m━━━━━━━━━━━━━━━━━━━━━━━━━━━━━━━━━━━━━━━━\u001b[0m \u001b[32m130.2/130.2 kB\u001b[0m \u001b[31m3.8 MB/s\u001b[0m eta \u001b[36m0:00:00\u001b[0m\n",
            "\u001b[?25h"
          ]
        }
      ]
    },
    {
      "cell_type": "code",
      "source": [
        "from langchain.retrievers.document_compressors.chain_extract import LLMChainExtractor\n",
        "from langchain_groq import ChatGroq\n",
        "\n",
        "groq_llm = ChatGroq(model_name=\"llama-3.3-70b-versatile\", api_key=\"gsk_SLhReShWaJ78t62ysC1VyqUWhdyb3FYYuQItRRAb69hReQhkagugQgSmDwZ\")\n",
        "\n",
        "compressor = LLMChainExtractor.from_llm(groq_llm)"
      ],
      "metadata": {
        "id": "s4KT1EJkO5WX"
      },
      "execution_count": 43,
      "outputs": []
    },
    {
      "cell_type": "code",
      "source": [
        "retriever_ccr = ContextualCompressionRetriever(base_compressor=compressor,base_retriever=base_retriever)"
      ],
      "metadata": {
        "id": "gvrW7NWkN55Z"
      },
      "execution_count": 44,
      "outputs": []
    },
    {
      "cell_type": "code",
      "source": [
        "ccr_results = retriever_ccr.invoke(\"What is photosynthesis?\")"
      ],
      "metadata": {
        "id": "rxRyooBOQRbe"
      },
      "execution_count": 45,
      "outputs": []
    },
    {
      "cell_type": "code",
      "source": [
        "for i, doc in enumerate(ccr_results):\n",
        "  print('Results=',i,doc.page_content,'\\n')"
      ],
      "metadata": {
        "colab": {
          "base_uri": "https://localhost:8080/"
        },
        "id": "bkyeJ4XIPkeB",
        "outputId": "4a1a11af-c555-4cec-b83f-26b9d11f0fc1"
      },
      "execution_count": 46,
      "outputs": [
        {
          "output_type": "stream",
          "name": "stdout",
          "text": [
            "Results= 0 Photosynthesis is the process by which green plants convert sunlight into energy. \n",
            "\n",
            "Results= 1 The chlorophyll in plant cells captures sunlight during photosynthesis. \n",
            "\n",
            "Results= 2 Photosynthesis does not occur in animal cells. \n",
            "\n"
          ]
        }
      ]
    },
    {
      "cell_type": "code",
      "source": [],
      "metadata": {
        "id": "GUyvkmitQqSB"
      },
      "execution_count": null,
      "outputs": []
    }
  ]
}